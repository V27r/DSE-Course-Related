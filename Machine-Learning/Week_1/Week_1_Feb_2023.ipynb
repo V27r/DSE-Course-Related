{
 "cells": [
  {
   "cell_type": "markdown",
   "id": "ec91d02d",
   "metadata": {},
   "source": [
    "# Week 1\n",
    "# 1 February, 2023"
   ]
  },
  {
   "cell_type": "code",
   "execution_count": 1,
   "id": "af127941",
   "metadata": {},
   "outputs": [
    {
     "name": "stdout",
     "output_type": "stream",
     "text": [
      "Hello World\n"
     ]
    }
   ],
   "source": [
    "print(\"Hello World\")"
   ]
  },
  {
   "cell_type": "code",
   "execution_count": 2,
   "id": "1a74c266",
   "metadata": {},
   "outputs": [
    {
     "name": "stdout",
     "output_type": "stream",
     "text": [
      "Sum:30\n"
     ]
    }
   ],
   "source": [
    "a=10\n",
    "b=20\n",
    "c=a+b\n",
    "print(\"Sum:\",end=\"\")\n",
    "print(c)"
   ]
  },
  {
   "cell_type": "code",
   "execution_count": 3,
   "id": "935e8c35",
   "metadata": {},
   "outputs": [
    {
     "name": "stdout",
     "output_type": "stream",
     "text": [
      "['Apple', 'Banana', 'Cherry']\n"
     ]
    }
   ],
   "source": [
    "list=[\"Apple\",\"Banana\",\"Cherry\"]\n",
    "print(list)"
   ]
  },
  {
   "cell_type": "code",
   "execution_count": 4,
   "id": "719f9d46",
   "metadata": {},
   "outputs": [
    {
     "name": "stdout",
     "output_type": "stream",
     "text": [
      "Using positive index\n",
      "Apple\n",
      "Banana\n",
      "Cherry\n",
      "\n",
      "Using negative index\n",
      "Cherry\n",
      "Banana\n",
      "Apple\n"
     ]
    }
   ],
   "source": [
    "print(\"Using positive index\",end=\"\\n\")\n",
    "for x in range(0,len(list)):\n",
    "    print(list[x])\n",
    "print(\"\\nUsing negative index\",end=\"\\n\")\n",
    "print(list[-1])\n",
    "print(list[-2])\n",
    "print(list[-3])"
   ]
  },
  {
   "cell_type": "code",
   "execution_count": 5,
   "id": "051513d5",
   "metadata": {},
   "outputs": [
    {
     "name": "stdout",
     "output_type": "stream",
     "text": [
      "Enter a number:3\n",
      "Odd number, lesser than 20\n"
     ]
    }
   ],
   "source": [
    "i=int(input(\"Enter a number:\"))\n",
    "if(i%2==0):\n",
    "    if(i>20):\n",
    "        print(\"Even number, greater than 20\")\n",
    "    else:\n",
    "        print(\"Even number, lesser than 20\")\n",
    "else:\n",
    "    if(i>20):\n",
    "        print(\"Odd number, greater than 20\")\n",
    "    else:\n",
    "        print(\"Odd number, lesser than 20\")"
   ]
  },
  {
   "cell_type": "code",
   "execution_count": 6,
   "id": "658912de",
   "metadata": {},
   "outputs": [
    {
     "name": "stdout",
     "output_type": "stream",
     "text": [
      "Enter a number:3\n",
      "Number is divisible by 3\n"
     ]
    }
   ],
   "source": [
    "i=int(input(\"Enter a number:\"))\n",
    "if(i%2==0):\n",
    "    print(\"Number is divisible by 2\")\n",
    "elif(i%3==0):\n",
    "    print(\"Number is divisible by 3\")\n",
    "elif(i%5==0):\n",
    "    print(\"Number is divisible by 5\")\n",
    "else:\n",
    "    print(\"Not divisible by 2, 3 or 5\")"
   ]
  },
  {
   "cell_type": "code",
   "execution_count": 7,
   "id": "87959618",
   "metadata": {},
   "outputs": [
    {
     "name": "stdout",
     "output_type": "stream",
     "text": [
      "Enter a value:3\n",
      "Type of x:<class 'str'>\n",
      "Enter a value:4\n",
      "Type of y:<class 'int'>\n"
     ]
    }
   ],
   "source": [
    "x=input(\"Enter a value:\")\n",
    "print(\"Type of x:\",end=\"\")\n",
    "print(type(x))\n",
    "y=int(input(\"Enter a value:\"))\n",
    "print(\"Type of y:\",end=\"\")\n",
    "print(type(y))"
   ]
  },
  {
   "cell_type": "code",
   "execution_count": 8,
   "id": "09ed95bc",
   "metadata": {},
   "outputs": [
    {
     "name": "stdout",
     "output_type": "stream",
     "text": [
      "Enter a positive number:4\n",
      "Sum of number upto entered number:10\n"
     ]
    }
   ],
   "source": [
    "i=int(input(\"Enter a positive number:\"))\n",
    "if(i>=0):\n",
    "    print(\"Sum of number upto entered number:\",end=\"\")\n",
    "    print(int(i*(i+1)/2))\n",
    "else:\n",
    "    print(\"Enter a positive number!\")"
   ]
  },
  {
   "cell_type": "code",
   "execution_count": 9,
   "id": "2e5da1ef",
   "metadata": {},
   "outputs": [
    {
     "name": "stdout",
     "output_type": "stream",
     "text": [
      "Enter feet value:4\n",
      "Enter inches value:4\n",
      "Value in centimeters:132.08\n"
     ]
    }
   ],
   "source": [
    "feet=float(input(\"Enter feet value:\"))\n",
    "inches=float(input(\"Enter inches value:\"))\n",
    "print(\"Value in centimeters:\",end=\"\")\n",
    "print((feet*12*2.54)+(inches*2.54))"
   ]
  },
  {
   "cell_type": "code",
   "execution_count": 10,
   "id": "25ab8eb6",
   "metadata": {},
   "outputs": [
    {
     "name": "stdout",
     "output_type": "stream",
     "text": [
      "Enter number of human years:4\n",
      "Number of dog years:29.0\n"
     ]
    }
   ],
   "source": [
    "humanyears=float(input(\"Enter number of human years:\"))\n",
    "if(humanyears>=0):\n",
    "    if(humanyears<=2):\n",
    "        print(\"Number of dog years:\",end=\"\")\n",
    "        print(7*humanyears)\n",
    "    if(humanyears>2):\n",
    "        print(\"Number of dog years:\",end=\"\")\n",
    "        print((10.5*2)+(humanyears-2)*4)\n",
    "else:\n",
    "    print(\"Enter positive number of years!\")"
   ]
  },
  {
   "cell_type": "code",
   "execution_count": 11,
   "id": "a69923c5",
   "metadata": {},
   "outputs": [
    {
     "name": "stdout",
     "output_type": "stream",
     "text": [
      "Enter name of the month:April\n",
      "30 days\n"
     ]
    }
   ],
   "source": [
    "month=input(\"Enter name of the month:\")\n",
    "if(month==\"January\" or month==\"March\" or month==\"May\" or month==\"July\" or month==\"August\" or month==\"October\" or month==\"December\"):\n",
    "    print(\"31 days\")\n",
    "elif(month==\"February\"):\n",
    "    print(\"28 or 29 days\")\n",
    "elif(month==\"April\" or month==\"June\" or month==\"September\" or month==\"November\"):\n",
    "    print(\"30 days\")\n",
    "else:\n",
    "    print(\"Enter a valid month name!\")"
   ]
  },
  {
   "cell_type": "code",
   "execution_count": 12,
   "id": "cd850b7b",
   "metadata": {},
   "outputs": [
    {
     "name": "stdout",
     "output_type": "stream",
     "text": [
      "Enter row number:3\n",
      "Enter column name:c\n",
      "Black square\n"
     ]
    }
   ],
   "source": [
    "i=int(input(\"Enter row number:\"))\n",
    "k=['a','b','c','d','e','f','g','h']\n",
    "l=(8*(i-1))+(k.index(input(\"Enter column name:\")))\n",
    "if(i%2!=0):\n",
    "    if(l%2==0):\n",
    "        print(\"Black square\")\n",
    "    else:\n",
    "        print(\"White square\")\n",
    "else:\n",
    "    if(l%2==0):\n",
    "        print(\"White square\")\n",
    "    else:\n",
    "        print(\"Black square\")"
   ]
  },
  {
   "cell_type": "code",
   "execution_count": 13,
   "id": "fc0c4ef0",
   "metadata": {},
   "outputs": [
    {
     "name": "stdout",
     "output_type": "stream",
     "text": [
      "Enter a number:32\n",
      "Enter a number:23\n"
     ]
    }
   ],
   "source": [
    "a=int(input(\"Enter a number:\"))\n",
    "b=int(input(\"Enter a number:\"))\n",
    "for x in range(a,b+1):\n",
    "    if(x%2==0):\n",
    "        print(x)"
   ]
  },
  {
   "cell_type": "code",
   "execution_count": 14,
   "id": "f2935496",
   "metadata": {},
   "outputs": [
    {
     "name": "stdout",
     "output_type": "stream",
     "text": [
      "Enter a number:23\n",
      "Enter a number:3\n",
      "Enter a number:2\n",
      "Enter a number:3\n",
      "Enter a number:3\n",
      "Enter a number:3\n",
      "Enter a number:3\n",
      "Enter a number:3\n",
      "Enter a number:3\n",
      "Enter a number:3\n",
      "2\n"
     ]
    }
   ],
   "source": [
    "k=[]\n",
    "for x in range(1,11):\n",
    "    i=int(input(\"Enter a number:\"))\n",
    "    k.append(i)\n",
    "for j in range(0,len(k)):\n",
    "    if(k[j]%2==0):\n",
    "        print(k[j])"
   ]
  },
  {
   "cell_type": "code",
   "execution_count": 15,
   "id": "e11a055c",
   "metadata": {},
   "outputs": [
    {
     "name": "stdout",
     "output_type": "stream",
     "text": [
      "78\n"
     ]
    }
   ],
   "source": [
    "import random as r\n",
    "i=r.randint(1,200)\n",
    "print(i)"
   ]
  },
  {
   "cell_type": "code",
   "execution_count": 16,
   "id": "1f0c81e2",
   "metadata": {},
   "outputs": [
    {
     "name": "stdout",
     "output_type": "stream",
     "text": [
      "[11, 35, 106, 191, 253, 284, 287, 319, 321, 515, 572, 573, 580, 603, 638, 859, 895, 916, 948, 958]\n",
      "Minimum: 11\n",
      "Q1: 253\n",
      "Q2: 515\n",
      "Q3: 638\n",
      "Maximum: 958\n",
      "IQR: 385\n",
      "Outliers:"
     ]
    }
   ],
   "source": [
    "import random as r\n",
    "k=[]\n",
    "for u in range(0,20):\n",
    "   k.append(r.randint(1,1000))\n",
    "k.sort()\n",
    "print(k)\n",
    "Q1=k[int((len(k)/4))-1]\n",
    "Q2=k[int(len(k)/2)-1]\n",
    "Q3=k[int(3*(len(k)/4))-1]\n",
    "print(\"Minimum:\",min(k))\n",
    "print(\"Q1:\",Q1)\n",
    "print(\"Q2:\",Q2)\n",
    "print(\"Q3:\",Q3)\n",
    "print(\"Maximum:\",max(k))\n",
    "IQR=Q3-Q1\n",
    "print(\"IQR:\",IQR)\n",
    "print(\"Outliers:\",end=\"\")\n",
    "for i in range(0,len(k)):\n",
    "    if((k[i]<(Q1-1.5*IQR) or (k[i]>(Q3+1.5*IQR)))):\n",
    "        print(k[i],end=\",\")"
   ]
  },
  {
   "cell_type": "code",
   "execution_count": 17,
   "id": "6af0bcc1",
   "metadata": {},
   "outputs": [
    {
     "name": "stdout",
     "output_type": "stream",
     "text": [
      "Mean(a): 35.6,Mean(b): 37.6,Mean(c): 34.6,Mean(d): 17.8\n"
     ]
    }
   ],
   "source": [
    "mean=[0,0,0,0]\n",
    "marks=[38, 41, 36, 31, 45, 38, 27, 32, 29, 39]\n",
    "for i in range(0,len(marks)):\n",
    "    mean[0]=mean[0]+marks[i]\n",
    "    mean[1]=mean[1]+marks[i]+2\n",
    "    mean[2]=mean[2]+marks[i]-1\n",
    "    mean[3]=mean[3]+(marks[i]/2)\n",
    "print(\"Mean(a):\",mean[0]/len(marks),end=\",\")\n",
    "print(\"Mean(b):\",mean[1]/len(marks),end=\",\")\n",
    "print(\"Mean(c):\",mean[2]/len(marks),end=\",\") \n",
    "print(\"Mean(d):\",mean[3]/len(marks))"
   ]
  },
  {
   "cell_type": "code",
   "execution_count": 18,
   "id": "111d2072",
   "metadata": {},
   "outputs": [
    {
     "name": "stdout",
     "output_type": "stream",
     "text": [
      "d\n",
      "e\n",
      "f\n",
      "g\n"
     ]
    }
   ],
   "source": [
    "a=\"abcdefghijk\"\n",
    "for i in range(int(len(a)/2)-2,int(len(a)/2)+2):\n",
    "    print(a[i])"
   ]
  }
 ],
 "metadata": {
  "kernelspec": {
   "display_name": "Python 3 (ipykernel)",
   "language": "python",
   "name": "python3"
  },
  "language_info": {
   "codemirror_mode": {
    "name": "ipython",
    "version": 3
   },
   "file_extension": ".py",
   "mimetype": "text/x-python",
   "name": "python",
   "nbconvert_exporter": "python",
   "pygments_lexer": "ipython3",
   "version": "3.11.3"
  }
 },
 "nbformat": 4,
 "nbformat_minor": 5
}
