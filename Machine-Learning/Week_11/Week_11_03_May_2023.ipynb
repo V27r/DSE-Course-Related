{
 "cells": [
  {
   "cell_type": "markdown",
   "id": "784c69d1",
   "metadata": {},
   "source": [
    "# Week 11\n",
    "# 03 May, 2023"
   ]
  },
  {
   "cell_type": "markdown",
   "id": "f257ac86",
   "metadata": {},
   "source": [
    "### Write the python codes to perform dimensionality reduction on atleast 4 datasets, using at least 6 techniques. Build the models with at least 4 train_test_split combinations and different sets of hyper-parameter values. Analyse the performance for the different DR techniques.\n"
   ]
  },
  {
   "cell_type": "code",
   "execution_count": 2,
   "id": "7588cf6c",
   "metadata": {},
   "outputs": [],
   "source": [
    "from sklearn.decomposition import PCA\n",
    "from sklearn.discriminant_analysis import LinearDiscriminantAnalysis\n",
    "from sklearn.model_selection import train_test_split\n",
    "from sklearn.metrics import accuracy_score\n",
    "from sklearn.neighbors import KNeighborsClassifier\n",
    "from sklearn.feature_selection import RFE, SequentialFeatureSelector, chi2, SelectKBest\n",
    "from sklearn.svm import SVR\n",
    "from sklearn import datasets as d\n",
    "import numpy as np\n",
    "import pandas as pd\n",
    "split_ratios = [0.1, 0.2, 0.3, 0.4]\n",
    "iris=d.load_iris()\n",
    "X = iris.data \n",
    "y = iris.target"
   ]
  },
  {
   "cell_type": "code",
   "execution_count": 6,
   "id": "c736ef7a",
   "metadata": {},
   "outputs": [
    {
     "name": "stdout",
     "output_type": "stream",
     "text": [
      "   DRT  Split Ratio  Accuracy before  Accuracy after  n_components\n",
      "0  LDA          0.1         1.000000        1.000000             1\n",
      "1  PCA          0.1         0.933333        0.933333             1\n",
      "2  Chi          0.1         0.933333        0.933333             1\n",
      "3  LDA          0.2         0.933333        1.000000             1\n",
      "4  PCA          0.2         0.966667        0.966667             1\n"
     ]
    }
   ],
   "source": [
    "clf = KNeighborsClassifier()\n",
    "results = []\n",
    "n = [1, 2]\n",
    "for n_ in n:\n",
    "    for split_ratio in split_ratios:\n",
    "        for i in range(0,5):\n",
    "            X_train, X_test, y_train, y_test = train_test_split(X, y, test_size=split_ratio)\n",
    "            clf.fit(X_train, y_train)\n",
    "            y_pred = clf.predict(X_test)\n",
    "            accuracy_bf = accuracy_score(y_test, y_pred)\n",
    "            if i==0:\n",
    "                lda = LinearDiscriminantAnalysis(n_components=n_)\n",
    "                lda.fit(X_train, y_train)\n",
    "                X_test_transformed = lda.transform(X_test)\n",
    "                clf = KNeighborsClassifier()\n",
    "                clf.fit(lda.transform(X_train), y_train)\n",
    "                y_pred = clf.predict(X_test_transformed)\n",
    "                accuracy_af = accuracy_score(y_test, y_pred)\n",
    "                name='LDA' #Linear Discriminant Analysis\n",
    "            if i==1:\n",
    "                pca = PCA(n_components=n_)\n",
    "                pca.fit(X_train,y_train)\n",
    "                X_test_transformed = pca.transform(X_test)\n",
    "                clf = KNeighborsClassifier()\n",
    "                clf.fit(pca.transform(X_train), y_train)\n",
    "                y_pred = clf.predict(X_test_transformed)\n",
    "                accuracy_af = accuracy_score(y_test, y_pred)\n",
    "                name='PCA' #Principal Component Analysis\n",
    "            if i==2:\n",
    "                selector = RFE(SVR(kernel=\"linear\"), n_features_to_select=n_)\n",
    "                selector.fit(X_train, y_train)\n",
    "                X_test_transformed = selector.transform(X_test)\n",
    "                clf = KNeighborsClassifier()\n",
    "                clf.fit(selector.transform(X_train), y_train)\n",
    "                y_pred = clf.predict(X_test_transformed)\n",
    "                accuracy_af = accuracy_score(y_test, y_pred)\n",
    "                name='BFE' #Backward Feature Elimination\n",
    "            if i==3:\n",
    "                selector = SequentialFeatureSelector(KNeighborsClassifier(), n_features_to_select=n_, direction='forward')\n",
    "                selector.fit(X_train, y_train)\n",
    "                X_test_transformed = selector.transform(X_test)\n",
    "                clf = KNeighborsClassifier()\n",
    "                clf.fit(selector.transform(X_train), y_train)\n",
    "                y_pred = clf.predict(X_test_transformed)\n",
    "                accuracy_af = accuracy_score(y_test, y_pred)\n",
    "                name='FFS' #Forward Feature Selection\n",
    "            if i==4:\n",
    "                selector = SelectKBest(chi2, k=n_)\n",
    "                selector.fit(X_train, y_train)\n",
    "                X_test_transformed = selector.transform(X_test)\n",
    "                clf = KNeighborsClassifier()\n",
    "                clf.fit(selector.transform(X_train), y_train)\n",
    "                y_pred = clf.predict(X_test_transformed)\n",
    "                accuracy_af = accuracy_score(y_test, y_pred)\n",
    "                name='Chi'\n",
    "            if(accuracy_af>=accuracy_bf):\n",
    "                result = {\n",
    "                        'DRT':name,\n",
    "                        'Split Ratio': split_ratio,\n",
    "                        'Accuracy before':accuracy_bf,\n",
    "                        'Accuracy after':accuracy_af,\n",
    "                        'n_components':n_\n",
    "                    }\n",
    "                results.append(result)\n",
    "df = pd.DataFrame(results)\n",
    "df.to_csv('Results.csv', index=False)\n",
    "print(df.head(5))"
   ]
  }
 ],
 "metadata": {
  "kernelspec": {
   "display_name": "Python 3 (ipykernel)",
   "language": "python",
   "name": "python3"
  },
  "language_info": {
   "codemirror_mode": {
    "name": "ipython",
    "version": 3
   },
   "file_extension": ".py",
   "mimetype": "text/x-python",
   "name": "python",
   "nbconvert_exporter": "python",
   "pygments_lexer": "ipython3",
   "version": "3.11.3"
  }
 },
 "nbformat": 4,
 "nbformat_minor": 5
}
