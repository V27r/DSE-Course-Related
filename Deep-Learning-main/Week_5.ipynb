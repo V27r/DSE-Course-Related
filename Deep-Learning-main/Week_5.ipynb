{
  "cells": [
    {
      "cell_type": "markdown",
      "id": "e7a6251a-7e01-40dc-8f37-3edcec4965dd",
      "metadata": {
        "id": "e7a6251a-7e01-40dc-8f37-3edcec4965dd"
      },
      "source": [
        "# Week 5 - Implementing Recurrent Neural Networks for time series forecasting and stock market prediction\n",
        "# August 31, 2023."
      ]
    },
    {
      "cell_type": "markdown",
      "id": "33f5ebbd-cd08-401f-ba34-09f8e6a9b5ee",
      "metadata": {
        "id": "33f5ebbd-cd08-401f-ba34-09f8e6a9b5ee"
      },
      "source": [
        "## Q1)A) Create a dataset of 10000 samples with 51 time steps each."
      ]
    },
    {
      "cell_type": "code",
      "execution_count": 1,
      "id": "45ae1639-4ceb-44a7-bbbc-3d009997c165",
      "metadata": {
        "id": "45ae1639-4ceb-44a7-bbbc-3d009997c165"
      },
      "outputs": [],
      "source": [
        "import tensorflow as tf\n",
        "import numpy as np\n",
        "from keras.models import Sequential\n",
        "from keras.layers import Dense, Input, Flatten, SimpleRNN\n",
        "from sklearn.model_selection import train_test_split\n",
        "def generate_time_series(sample_size, n_steps):\n",
        "    freq1, freq2, offsets1, offsets2=np.random.rand(4, sample_size, 1)\n",
        "    time=np.linspace(0, 1, n_steps)\n",
        "    series=0.5*np.sin((time-offsets1)*(freq1*10+10))\n",
        "    series+=0.2*np.sin((time-offsets2)*(freq2*20+10))\n",
        "    series+=0.1*(np.random.rand(sample_size, n_steps)-0.5)\n",
        "    return series[..., np.newaxis].astype(np.float32)\n",
        "data=generate_time_series(10000,51)"
      ]
    },
    {
      "cell_type": "markdown",
      "id": "86d89d25-181a-4855-a932-92be7ab9296b",
      "metadata": {
        "id": "86d89d25-181a-4855-a932-92be7ab9296b"
      },
      "source": [
        "## B) Split the dataset in the ratio training: validation: testing = 70:20:10."
      ]
    },
    {
      "cell_type": "code",
      "execution_count": 2,
      "id": "a64299f4-7a9e-4390-9980-e8f5461e7fb9",
      "metadata": {
        "colab": {
          "base_uri": "https://localhost:8080/"
        },
        "id": "a64299f4-7a9e-4390-9980-e8f5461e7fb9",
        "outputId": "c190fddd-7361-410a-846c-e39c36d56414"
      },
      "outputs": [
        {
          "output_type": "stream",
          "name": "stderr",
          "text": [
            "/usr/local/lib/python3.10/dist-packages/sklearn/preprocessing/_encoders.py:868: FutureWarning: `sparse` was renamed to `sparse_output` in version 1.2 and will be removed in 1.4. `sparse_output` is ignored unless you leave `sparse` to its default value.\n",
            "  warnings.warn(\n",
            "/usr/local/lib/python3.10/dist-packages/sklearn/preprocessing/_encoders.py:868: FutureWarning: `sparse` was renamed to `sparse_output` in version 1.2 and will be removed in 1.4. `sparse_output` is ignored unless you leave `sparse` to its default value.\n",
            "  warnings.warn(\n"
          ]
        }
      ],
      "source": [
        "X=data[:,:50]\n",
        "Y=data[:,50:51] # Last column as the label\n",
        "from sklearn.preprocessing import OneHotEncoder\n",
        "# Spliting the dataset\n",
        "X_train,X_test,Y_train,Y_test=train_test_split(X,Y,test_size=0.1)\n",
        "# Performing One hotencoding on the labels\n",
        "encoder=OneHotEncoder(sparse=False)\n",
        "y_train_encoded=encoder.fit_transform(Y_train.reshape(-1,1))\n",
        "y_test_encoded=encoder.fit_transform(Y_test.reshape(-1,1))"
      ]
    },
    {
      "cell_type": "markdown",
      "id": "d7fc2a5f-97a9-483c-b028-a452d903f2a6",
      "metadata": {
        "id": "d7fc2a5f-97a9-483c-b028-a452d903f2a6"
      },
      "source": [
        "## C) Design, train, test and compare the performances of the following on the prediction of the\n",
        "## value of 51st time step in the generated time series.\n",
        "### a. Fully connected neural network."
      ]
    },
    {
      "cell_type": "code",
      "execution_count": 3,
      "id": "dd797353-3764-4427-be69-3edc83cfc404",
      "metadata": {
        "colab": {
          "base_uri": "https://localhost:8080/"
        },
        "id": "dd797353-3764-4427-be69-3edc83cfc404",
        "outputId": "f412781c-899b-4d02-fadb-4d62699f9d51"
      },
      "outputs": [
        {
          "output_type": "stream",
          "name": "stdout",
          "text": [
            "(9000, 50, 1)\n",
            "(9000, 9000)\n"
          ]
        }
      ],
      "source": [
        "# Shape of the dataset\n",
        "print(X_train.shape)\n",
        "print(y_train_encoded.shape)"
      ]
    },
    {
      "cell_type": "code",
      "execution_count": 4,
      "id": "d5aa894d-a293-4286-bdeb-37290f590324",
      "metadata": {
        "colab": {
          "base_uri": "https://localhost:8080/"
        },
        "id": "d5aa894d-a293-4286-bdeb-37290f590324",
        "outputId": "7c455411-44aa-4745-b9e3-a78aa5bff8dd"
      },
      "outputs": [
        {
          "output_type": "stream",
          "name": "stdout",
          "text": [
            "Model: \"sequential\"\n",
            "_________________________________________________________________\n",
            " Layer (type)                Output Shape              Param #   \n",
            "=================================================================\n",
            " flatten (Flatten)           (None, 50)                0         \n",
            "                                                                 \n",
            " dense (Dense)               (None, 64)                3264      \n",
            "                                                                 \n",
            " dense_1 (Dense)             (None, 1)                 65        \n",
            "                                                                 \n",
            "=================================================================\n",
            "Total params: 3,329\n",
            "Trainable params: 3,329\n",
            "Non-trainable params: 0\n",
            "_________________________________________________________________\n"
          ]
        }
      ],
      "source": [
        "model=Sequential()\n",
        "model.add(Flatten(input_shape=(50,1,)))\n",
        "model.add(Dense(64,activation='relu'))\n",
        "model.add(Dense(1))\n",
        "model.compile(optimizer=tf.keras.optimizers.Adam(learning_rate=0.000001),loss='mean_squared_error')\n",
        "model.summary()"
      ]
    },
    {
      "cell_type": "code",
      "execution_count": 5,
      "id": "20f5f02b-304d-4726-b35e-017dfe5cac1c",
      "metadata": {
        "colab": {
          "base_uri": "https://localhost:8080/"
        },
        "id": "20f5f02b-304d-4726-b35e-017dfe5cac1c",
        "outputId": "7d5df2e0-8231-459f-e3f8-e52b3e9b4138"
      },
      "outputs": [
        {
          "output_type": "stream",
          "name": "stdout",
          "text": [
            "Epoch 1/20\n",
            "225/225 [==============================] - 13s 10ms/step - loss: 0.0464 - val_loss: 0.0465\n",
            "Epoch 2/20\n",
            "225/225 [==============================] - 2s 9ms/step - loss: 0.0434 - val_loss: 0.0434\n",
            "Epoch 3/20\n",
            "225/225 [==============================] - 2s 10ms/step - loss: 0.0406 - val_loss: 0.0405\n",
            "Epoch 4/20\n",
            "225/225 [==============================] - 1s 6ms/step - loss: 0.0379 - val_loss: 0.0378\n",
            "Epoch 5/20\n",
            "225/225 [==============================] - 2s 7ms/step - loss: 0.0354 - val_loss: 0.0353\n",
            "Epoch 6/20\n",
            "225/225 [==============================] - 1s 6ms/step - loss: 0.0331 - val_loss: 0.0329\n",
            "Epoch 7/20\n",
            "225/225 [==============================] - 1s 3ms/step - loss: 0.0309 - val_loss: 0.0307\n",
            "Epoch 8/20\n",
            "225/225 [==============================] - 1s 3ms/step - loss: 0.0288 - val_loss: 0.0287\n",
            "Epoch 9/20\n",
            "225/225 [==============================] - 1s 3ms/step - loss: 0.0269 - val_loss: 0.0267\n",
            "Epoch 10/20\n",
            "225/225 [==============================] - 1s 3ms/step - loss: 0.0251 - val_loss: 0.0249\n",
            "Epoch 11/20\n",
            "225/225 [==============================] - 1s 3ms/step - loss: 0.0235 - val_loss: 0.0233\n",
            "Epoch 12/20\n",
            "225/225 [==============================] - 1s 3ms/step - loss: 0.0219 - val_loss: 0.0217\n",
            "Epoch 13/20\n",
            "225/225 [==============================] - 1s 4ms/step - loss: 0.0205 - val_loss: 0.0203\n",
            "Epoch 14/20\n",
            "225/225 [==============================] - 1s 5ms/step - loss: 0.0191 - val_loss: 0.0189\n",
            "Epoch 15/20\n",
            "225/225 [==============================] - 1s 4ms/step - loss: 0.0179 - val_loss: 0.0177\n",
            "Epoch 16/20\n",
            "225/225 [==============================] - 1s 3ms/step - loss: 0.0168 - val_loss: 0.0166\n",
            "Epoch 17/20\n",
            "225/225 [==============================] - 1s 3ms/step - loss: 0.0157 - val_loss: 0.0155\n",
            "Epoch 18/20\n",
            "225/225 [==============================] - 1s 3ms/step - loss: 0.0147 - val_loss: 0.0146\n",
            "Epoch 19/20\n",
            "225/225 [==============================] - 1s 3ms/step - loss: 0.0138 - val_loss: 0.0137\n",
            "Epoch 20/20\n",
            "225/225 [==============================] - 1s 3ms/step - loss: 0.0130 - val_loss: 0.0129\n"
          ]
        }
      ],
      "source": [
        "history1=model.fit(X_train,y_train_encoded,epochs=20,batch_size=32,validation_split=0.2)"
      ]
    },
    {
      "cell_type": "code",
      "execution_count": 7,
      "id": "d500a13e-e85b-4715-9e12-c89ce53ac995",
      "metadata": {
        "colab": {
          "base_uri": "https://localhost:8080/"
        },
        "id": "d500a13e-e85b-4715-9e12-c89ce53ac995",
        "outputId": "a8846432-13bc-4b0a-919e-763a541db1c0"
      },
      "outputs": [
        {
          "output_type": "stream",
          "name": "stdout",
          "text": [
            "32/32 [==============================] - 0s 5ms/step - loss: 0.0132\n",
            "Test Loss: 0.013177813962101936\n"
          ]
        }
      ],
      "source": [
        "# Evaluating the model\n",
        "loss = model.evaluate(X_test, y_test_encoded, batch_size=32)\n",
        "print(\"Test Loss:\", loss)"
      ]
    },
    {
      "cell_type": "markdown",
      "id": "18e6a3aa-7c6c-4037-90fa-53f15c09aa0c",
      "metadata": {
        "id": "18e6a3aa-7c6c-4037-90fa-53f15c09aa0c"
      },
      "source": [
        "### b. Simple RNN with one layer (output layer)"
      ]
    },
    {
      "cell_type": "code",
      "execution_count": 8,
      "id": "fd647993-0749-4bc8-8d5e-70236b0cd168",
      "metadata": {
        "colab": {
          "base_uri": "https://localhost:8080/"
        },
        "id": "fd647993-0749-4bc8-8d5e-70236b0cd168",
        "outputId": "8c207cdd-9931-48c3-95c2-7ef754a5826c"
      },
      "outputs": [
        {
          "output_type": "stream",
          "name": "stdout",
          "text": [
            "Model: \"sequential_1\"\n",
            "_________________________________________________________________\n",
            " Layer (type)                Output Shape              Param #   \n",
            "=================================================================\n",
            " simple_rnn (SimpleRNN)      (None, 1)                 3         \n",
            "                                                                 \n",
            "=================================================================\n",
            "Total params: 3\n",
            "Trainable params: 3\n",
            "Non-trainable params: 0\n",
            "_________________________________________________________________\n"
          ]
        }
      ],
      "source": [
        "model_RNN=Sequential()\n",
        "model_RNN.add(Input(shape=(50, 1)))\n",
        "model_RNN.add(SimpleRNN(units=1))\n",
        "model_RNN.compile(optimizer=tf.keras.optimizers.Adam(learning_rate=0.00001),loss='mean_squared_error')\n",
        "model_RNN.summary()"
      ]
    },
    {
      "cell_type": "code",
      "execution_count": 9,
      "id": "c49237e3-548e-4669-a9d3-b8bfb7f5e185",
      "metadata": {
        "colab": {
          "base_uri": "https://localhost:8080/"
        },
        "id": "c49237e3-548e-4669-a9d3-b8bfb7f5e185",
        "outputId": "9b4ac25d-0410-48ad-b44e-81be89f65225"
      },
      "outputs": [
        {
          "output_type": "stream",
          "name": "stdout",
          "text": [
            "Epoch 1/20\n",
            "225/225 [==============================] - 4s 15ms/step - loss: 0.1344 - val_loss: 0.1343\n",
            "Epoch 2/20\n",
            "225/225 [==============================] - 6s 27ms/step - loss: 0.1328 - val_loss: 0.1328\n",
            "Epoch 3/20\n",
            "225/225 [==============================] - 6s 29ms/step - loss: 0.1312 - val_loss: 0.1312\n",
            "Epoch 4/20\n",
            "225/225 [==============================] - 3s 14ms/step - loss: 0.1296 - val_loss: 0.1296\n",
            "Epoch 5/20\n",
            "225/225 [==============================] - 4s 18ms/step - loss: 0.1281 - val_loss: 0.1280\n",
            "Epoch 6/20\n",
            "225/225 [==============================] - 3s 13ms/step - loss: 0.1265 - val_loss: 0.1264\n",
            "Epoch 7/20\n",
            "225/225 [==============================] - 3s 13ms/step - loss: 0.1249 - val_loss: 0.1248\n",
            "Epoch 8/20\n",
            "225/225 [==============================] - 4s 16ms/step - loss: 0.1233 - val_loss: 0.1233\n",
            "Epoch 9/20\n",
            "225/225 [==============================] - 3s 15ms/step - loss: 0.1217 - val_loss: 0.1217\n",
            "Epoch 10/20\n",
            "225/225 [==============================] - 3s 13ms/step - loss: 0.1201 - val_loss: 0.1201\n",
            "Epoch 11/20\n",
            "225/225 [==============================] - 3s 13ms/step - loss: 0.1185 - val_loss: 0.1185\n",
            "Epoch 12/20\n",
            "225/225 [==============================] - 4s 17ms/step - loss: 0.1170 - val_loss: 0.1170\n",
            "Epoch 13/20\n",
            "225/225 [==============================] - 3s 13ms/step - loss: 0.1154 - val_loss: 0.1154\n",
            "Epoch 14/20\n",
            "225/225 [==============================] - 3s 13ms/step - loss: 0.1138 - val_loss: 0.1138\n",
            "Epoch 15/20\n",
            "225/225 [==============================] - 3s 13ms/step - loss: 0.1123 - val_loss: 0.1123\n",
            "Epoch 16/20\n",
            "225/225 [==============================] - 4s 17ms/step - loss: 0.1107 - val_loss: 0.1107\n",
            "Epoch 17/20\n",
            "225/225 [==============================] - 3s 13ms/step - loss: 0.1091 - val_loss: 0.1091\n",
            "Epoch 18/20\n",
            "225/225 [==============================] - 3s 13ms/step - loss: 0.1076 - val_loss: 0.1076\n",
            "Epoch 19/20\n",
            "225/225 [==============================] - 3s 13ms/step - loss: 0.1060 - val_loss: 0.1060\n",
            "Epoch 20/20\n",
            "225/225 [==============================] - 4s 17ms/step - loss: 0.1045 - val_loss: 0.1045\n"
          ]
        }
      ],
      "source": [
        "history2=model_RNN.fit(X_train,y_train_encoded,epochs=20,batch_size=32,validation_split=0.2)"
      ]
    },
    {
      "cell_type": "code",
      "source": [
        "# Evaluating the model\n",
        "loss = model_RNN.evaluate(X_test, y_test_encoded, batch_size=32)\n",
        "print(\"Test Loss:\", loss)"
      ],
      "metadata": {
        "id": "33Eq_Oopu6ii",
        "colab": {
          "base_uri": "https://localhost:8080/"
        },
        "outputId": "834f24f1-a0d4-455d-9548-6f0564f5c305"
      },
      "id": "33Eq_Oopu6ii",
      "execution_count": 10,
      "outputs": [
        {
          "output_type": "stream",
          "name": "stdout",
          "text": [
            "32/32 [==============================] - 0s 6ms/step - loss: 0.1049\n",
            "Test Loss: 0.10485044121742249\n"
          ]
        }
      ]
    },
    {
      "cell_type": "markdown",
      "source": [
        "### c. Simple RNN with one hidden layer and one output layer"
      ],
      "metadata": {
        "id": "Ld5B9KjCtcG4"
      },
      "id": "Ld5B9KjCtcG4"
    },
    {
      "cell_type": "code",
      "source": [
        "model_RNNN=Sequential()\n",
        "model_RNNN.add(Input(shape=(50, 1)))\n",
        "model_RNNN.add(SimpleRNN(units=1, return_sequences=True))\n",
        "model_RNNN.add(SimpleRNN(units=1))\n",
        "model_RNNN.compile(optimizer=tf.keras.optimizers.Adam(learning_rate=0.0001),loss='mean_squared_error')\n",
        "model_RNNN.summary()"
      ],
      "metadata": {
        "colab": {
          "base_uri": "https://localhost:8080/"
        },
        "id": "QtExSZC4tc6Z",
        "outputId": "2e6b80f3-ec5a-47b8-d527-a54ffd6933f0"
      },
      "id": "QtExSZC4tc6Z",
      "execution_count": 12,
      "outputs": [
        {
          "output_type": "stream",
          "name": "stdout",
          "text": [
            "Model: \"sequential_2\"\n",
            "_________________________________________________________________\n",
            " Layer (type)                Output Shape              Param #   \n",
            "=================================================================\n",
            " simple_rnn_1 (SimpleRNN)    (None, 50, 1)             3         \n",
            "                                                                 \n",
            " simple_rnn_2 (SimpleRNN)    (None, 1)                 3         \n",
            "                                                                 \n",
            "=================================================================\n",
            "Total params: 6\n",
            "Trainable params: 6\n",
            "Non-trainable params: 0\n",
            "_________________________________________________________________\n"
          ]
        }
      ]
    },
    {
      "cell_type": "code",
      "source": [
        "history3=model_RNNN.fit(X_train,y_train_encoded,epochs=20,batch_size=32,validation_split=0.2)"
      ],
      "metadata": {
        "id": "zbaRs3f1tuE-",
        "colab": {
          "base_uri": "https://localhost:8080/"
        },
        "outputId": "31d796e5-1e08-47d2-ae48-2547e0b397f9"
      },
      "id": "zbaRs3f1tuE-",
      "execution_count": 13,
      "outputs": [
        {
          "output_type": "stream",
          "name": "stdout",
          "text": [
            "Epoch 1/20\n",
            "225/225 [==============================] - 17s 66ms/step - loss: 0.7445 - val_loss: 0.7538\n",
            "Epoch 2/20\n",
            "225/225 [==============================] - 14s 61ms/step - loss: 0.7358 - val_loss: 0.7449\n",
            "Epoch 3/20\n",
            "225/225 [==============================] - 14s 62ms/step - loss: 0.7262 - val_loss: 0.7351\n",
            "Epoch 4/20\n",
            "225/225 [==============================] - 14s 64ms/step - loss: 0.7156 - val_loss: 0.7242\n",
            "Epoch 5/20\n",
            "225/225 [==============================] - 14s 62ms/step - loss: 0.7039 - val_loss: 0.7121\n",
            "Epoch 6/20\n",
            "225/225 [==============================] - 14s 62ms/step - loss: 0.6909 - val_loss: 0.6986\n",
            "Epoch 7/20\n",
            "225/225 [==============================] - 15s 66ms/step - loss: 0.6764 - val_loss: 0.6836\n",
            "Epoch 8/20\n",
            "225/225 [==============================] - 14s 62ms/step - loss: 0.6604 - val_loss: 0.6669\n",
            "Epoch 9/20\n",
            "225/225 [==============================] - 14s 62ms/step - loss: 0.6427 - val_loss: 0.6483\n",
            "Epoch 10/20\n",
            "225/225 [==============================] - 14s 61ms/step - loss: 0.6230 - val_loss: 0.6278\n",
            "Epoch 11/20\n",
            "225/225 [==============================] - 15s 69ms/step - loss: 0.6014 - val_loss: 0.6051\n",
            "Epoch 12/20\n",
            "225/225 [==============================] - 14s 62ms/step - loss: 0.5777 - val_loss: 0.5803\n",
            "Epoch 13/20\n",
            "225/225 [==============================] - 14s 63ms/step - loss: 0.5519 - val_loss: 0.5534\n",
            "Epoch 14/20\n",
            "225/225 [==============================] - 18s 82ms/step - loss: 0.5242 - val_loss: 0.5245\n",
            "Epoch 15/20\n",
            "225/225 [==============================] - 16s 71ms/step - loss: 0.4947 - val_loss: 0.4940\n",
            "Epoch 16/20\n",
            "225/225 [==============================] - 14s 61ms/step - loss: 0.4638 - val_loss: 0.4623\n",
            "Epoch 17/20\n",
            "225/225 [==============================] - 14s 64ms/step - loss: 0.4320 - val_loss: 0.4297\n",
            "Epoch 18/20\n",
            "225/225 [==============================] - 14s 64ms/step - loss: 0.3998 - val_loss: 0.3967\n",
            "Epoch 19/20\n",
            "225/225 [==============================] - 14s 63ms/step - loss: 0.3675 - val_loss: 0.3635\n",
            "Epoch 20/20\n",
            "225/225 [==============================] - 14s 61ms/step - loss: 0.3354 - val_loss: 0.3304\n"
          ]
        }
      ]
    },
    {
      "cell_type": "code",
      "source": [
        "# Evaluating the model\n",
        "loss = model_RNNN.evaluate(X_test, y_test_encoded, batch_size=32)\n",
        "print(\"Test Loss:\", loss)"
      ],
      "metadata": {
        "id": "Aj3k2fjBu-pZ",
        "colab": {
          "base_uri": "https://localhost:8080/"
        },
        "outputId": "53923954-ba5c-4c50-eef0-b99edac267c0"
      },
      "id": "Aj3k2fjBu-pZ",
      "execution_count": 14,
      "outputs": [
        {
          "output_type": "stream",
          "name": "stdout",
          "text": [
            "32/32 [==============================] - 1s 10ms/step - loss: 0.3209\n",
            "Test Loss: 0.3208639919757843\n"
          ]
        }
      ]
    },
    {
      "cell_type": "markdown",
      "source": [
        "### e. Simple RNN with two hidden layers and one output layer."
      ],
      "metadata": {
        "id": "LEMDxolWvBT5"
      },
      "id": "LEMDxolWvBT5"
    },
    {
      "cell_type": "code",
      "source": [
        "model_RNNNN=Sequential()\n",
        "model_RNNNN.add(Input(shape=(50, 1)))\n",
        "model_RNNNN.add(SimpleRNN(units=1, return_sequences=True))\n",
        "model_RNNNN.add(SimpleRNN(units=1, return_sequences=True))\n",
        "model_RNNNN.add(SimpleRNN(units=1))\n",
        "model_RNNNN.compile(optimizer=tf.keras.optimizers.Adam(learning_rate=0.001),loss='mean_squared_error')\n",
        "model_RNNNN.summary()"
      ],
      "metadata": {
        "id": "AJPJc0VYvDtb",
        "colab": {
          "base_uri": "https://localhost:8080/"
        },
        "outputId": "33bc09fc-10fa-4742-89ec-8d61a737acc6"
      },
      "id": "AJPJc0VYvDtb",
      "execution_count": 15,
      "outputs": [
        {
          "output_type": "stream",
          "name": "stdout",
          "text": [
            "Model: \"sequential_3\"\n",
            "_________________________________________________________________\n",
            " Layer (type)                Output Shape              Param #   \n",
            "=================================================================\n",
            " simple_rnn_3 (SimpleRNN)    (None, 50, 1)             3         \n",
            "                                                                 \n",
            " simple_rnn_4 (SimpleRNN)    (None, 50, 1)             3         \n",
            "                                                                 \n",
            " simple_rnn_5 (SimpleRNN)    (None, 1)                 3         \n",
            "                                                                 \n",
            "=================================================================\n",
            "Total params: 9\n",
            "Trainable params: 9\n",
            "Non-trainable params: 0\n",
            "_________________________________________________________________\n"
          ]
        }
      ]
    },
    {
      "cell_type": "code",
      "source": [
        "history3=model_RNNNN.fit(X_train,y_train_encoded,epochs=20,batch_size=32,validation_split=0.2)"
      ],
      "metadata": {
        "id": "bPChkRXDvZKk",
        "colab": {
          "base_uri": "https://localhost:8080/"
        },
        "outputId": "beb4938c-f567-4aa7-94ac-097c8b42c7ed"
      },
      "id": "bPChkRXDvZKk",
      "execution_count": 16,
      "outputs": [
        {
          "output_type": "stream",
          "name": "stdout",
          "text": [
            "Epoch 1/20\n",
            "225/225 [==============================] - 26s 101ms/step - loss: 0.0051 - val_loss: 7.3396e-04\n",
            "Epoch 2/20\n",
            "225/225 [==============================] - 23s 102ms/step - loss: 3.4905e-04 - val_loss: 1.5361e-04\n",
            "Epoch 3/20\n",
            "225/225 [==============================] - 24s 105ms/step - loss: 1.2483e-04 - val_loss: 1.1259e-04\n",
            "Epoch 4/20\n",
            "225/225 [==============================] - 24s 109ms/step - loss: 1.1147e-04 - val_loss: 1.1112e-04\n",
            "Epoch 5/20\n",
            "225/225 [==============================] - 23s 102ms/step - loss: 1.1110e-04 - val_loss: 1.1110e-04\n",
            "Epoch 6/20\n",
            "225/225 [==============================] - 23s 103ms/step - loss: 1.1110e-04 - val_loss: 1.1110e-04\n",
            "Epoch 7/20\n",
            "225/225 [==============================] - 23s 102ms/step - loss: 1.1110e-04 - val_loss: 1.1110e-04\n",
            "Epoch 8/20\n",
            "225/225 [==============================] - 23s 102ms/step - loss: 1.1110e-04 - val_loss: 1.1110e-04\n",
            "Epoch 9/20\n",
            "225/225 [==============================] - 22s 97ms/step - loss: 1.1110e-04 - val_loss: 1.1110e-04\n",
            "Epoch 10/20\n",
            "225/225 [==============================] - 24s 107ms/step - loss: 1.1110e-04 - val_loss: 1.1110e-04\n",
            "Epoch 11/20\n",
            "225/225 [==============================] - 23s 103ms/step - loss: 1.1110e-04 - val_loss: 1.1110e-04\n",
            "Epoch 12/20\n",
            "225/225 [==============================] - 23s 104ms/step - loss: 1.1110e-04 - val_loss: 1.1110e-04\n",
            "Epoch 13/20\n",
            "225/225 [==============================] - 23s 103ms/step - loss: 1.1110e-04 - val_loss: 1.1110e-04\n",
            "Epoch 14/20\n",
            "225/225 [==============================] - 24s 105ms/step - loss: 1.1110e-04 - val_loss: 1.1110e-04\n",
            "Epoch 15/20\n",
            "225/225 [==============================] - 23s 101ms/step - loss: 1.1110e-04 - val_loss: 1.1110e-04\n",
            "Epoch 16/20\n",
            "225/225 [==============================] - 24s 105ms/step - loss: 1.1110e-04 - val_loss: 1.1110e-04\n",
            "Epoch 17/20\n",
            "225/225 [==============================] - 22s 98ms/step - loss: 1.1110e-04 - val_loss: 1.1110e-04\n",
            "Epoch 18/20\n",
            "225/225 [==============================] - 23s 100ms/step - loss: 1.1110e-04 - val_loss: 1.1110e-04\n",
            "Epoch 19/20\n",
            "225/225 [==============================] - 22s 99ms/step - loss: 1.1110e-04 - val_loss: 1.1110e-04\n",
            "Epoch 20/20\n",
            "225/225 [==============================] - 24s 105ms/step - loss: 1.1110e-04 - val_loss: 1.1110e-04\n"
          ]
        }
      ]
    },
    {
      "cell_type": "code",
      "source": [
        "# Evaluating the model\n",
        "loss = model_RNNNN.evaluate(X_test, y_test_encoded, batch_size=32)\n",
        "print(\"Test Loss:\", loss)"
      ],
      "metadata": {
        "id": "S9QqpTjKvaOM",
        "colab": {
          "base_uri": "https://localhost:8080/"
        },
        "outputId": "a92bffe4-ea9c-4eb2-a5c6-746dfd2a7936"
      },
      "id": "S9QqpTjKvaOM",
      "execution_count": 18,
      "outputs": [
        {
          "output_type": "stream",
          "name": "stdout",
          "text": [
            "32/32 [==============================] - 1s 25ms/step - loss: 9.9979e-04\n",
            "Test Loss: 0.0009997898014262319\n"
          ]
        }
      ]
    },
    {
      "cell_type": "markdown",
      "source": [
        "## Q2) Consider the Google Stock Prediction dataset\n",
        "### A)  Build a Simple RNN model with 5 layers (use dropouts if required) to predict the stock price for the years 2020 and 2021."
      ],
      "metadata": {
        "id": "mSfmMyu8zKef"
      },
      "id": "mSfmMyu8zKef"
    },
    {
      "cell_type": "code",
      "source": [
        "import pandas as pd\n",
        "data=pd.read_csv('GOOG.csv')\n",
        "# Filter data between years 2020 and 2021\n",
        "data=data[(data['date'] >= '2020-01-01') & (data['date'] <= '2021-12-31')]\n",
        "# Check for null values\n",
        "print(data.isnull().sum())"
      ],
      "metadata": {
        "colab": {
          "base_uri": "https://localhost:8080/"
        },
        "id": "nzOjUCqtzN6W",
        "outputId": "717a55bd-cd9f-48bc-9db1-c2a8a5d4817a"
      },
      "id": "nzOjUCqtzN6W",
      "execution_count": 23,
      "outputs": [
        {
          "output_type": "stream",
          "name": "stdout",
          "text": [
            "symbol         0\n",
            "date           0\n",
            "close          0\n",
            "high           0\n",
            "low            0\n",
            "open           0\n",
            "volume         0\n",
            "adjClose       0\n",
            "adjHigh        0\n",
            "adjLow         0\n",
            "adjOpen        0\n",
            "adjVolume      0\n",
            "divCash        0\n",
            "splitFactor    0\n",
            "dtype: int64\n"
          ]
        }
      ]
    },
    {
      "cell_type": "code",
      "source": [
        "from sklearn.preprocessing import StandardScaler\n",
        "# Select relevant columns for modeling\n",
        "features=['close', 'high', 'low', 'open', 'volume', 'adjClose', 'adjHigh', 'adjLow', 'adjOpen', 'adjVolume']\n",
        "data=data[features].values\n",
        "# Normalize the data using StandardScaler\n",
        "scaler=StandardScaler()\n",
        "data=scaler.fit_transform(data)"
      ],
      "metadata": {
        "id": "EI411CqI0Pxl"
      },
      "id": "EI411CqI0Pxl",
      "execution_count": 24,
      "outputs": []
    },
    {
      "cell_type": "code",
      "source": [
        "# Split the data into input features and target\n",
        "X = data[:-1]\n",
        "y = data[1:, 0]  # Use the 'close' price as the target for each day\n",
        "# Define window size for time series data\n",
        "window_size = 30\n",
        "# Create sequences of data\n",
        "sequences = []\n",
        "target = []\n",
        "for i in range(len(data) - window_size):\n",
        "    sequences.append(data[i:i+window_size])\n",
        "    target.append(data[i+window_size])\n",
        "sequences = np.array(sequences)\n",
        "target = np.array(target)\n",
        "# Spliting the data\n",
        "X_train, X_test, y_train, y_test = train_test_split(sequences, target, test_size=0.2, random_state=42)"
      ],
      "metadata": {
        "id": "iBm70fHC1z-P"
      },
      "id": "iBm70fHC1z-P",
      "execution_count": 25,
      "outputs": []
    },
    {
      "cell_type": "code",
      "source": [
        "# Build the RNN model\n",
        "from tensorflow.keras.layers import Dropout\n",
        "model = Sequential()\n",
        "model.add(SimpleRNN(units=64, activation='relu', return_sequences=True, input_shape=(30, len(features))))\n",
        "model.add(Dropout(0.2))\n",
        "model.add(SimpleRNN(units=64, activation='relu', return_sequences=True))\n",
        "model.add(Dropout(0.2))\n",
        "model.add(SimpleRNN(units=64, activation='relu', return_sequences=True))\n",
        "model.add(Dropout(0.2))\n",
        "model.add(SimpleRNN(units=64, activation='relu'))\n",
        "model.add(Dropout(0.2))\n",
        "model.add(Dense(units=len(features)))\n",
        "model.summary()\n",
        "model.compile(optimizer=tf.keras.optimizers.Adam(learning_rate=0.001),loss='mean_squared_error')"
      ],
      "metadata": {
        "colab": {
          "base_uri": "https://localhost:8080/"
        },
        "id": "UMpssTMO2PnD",
        "outputId": "b6b4cf96-231f-4ce7-a484-3f5946563539"
      },
      "id": "UMpssTMO2PnD",
      "execution_count": 27,
      "outputs": [
        {
          "output_type": "stream",
          "name": "stdout",
          "text": [
            "Model: \"sequential_5\"\n",
            "_________________________________________________________________\n",
            " Layer (type)                Output Shape              Param #   \n",
            "=================================================================\n",
            " simple_rnn_7 (SimpleRNN)    (None, 30, 64)            4800      \n",
            "                                                                 \n",
            " dropout (Dropout)           (None, 30, 64)            0         \n",
            "                                                                 \n",
            " simple_rnn_8 (SimpleRNN)    (None, 30, 64)            8256      \n",
            "                                                                 \n",
            " dropout_1 (Dropout)         (None, 30, 64)            0         \n",
            "                                                                 \n",
            " simple_rnn_9 (SimpleRNN)    (None, 30, 64)            8256      \n",
            "                                                                 \n",
            " dropout_2 (Dropout)         (None, 30, 64)            0         \n",
            "                                                                 \n",
            " simple_rnn_10 (SimpleRNN)   (None, 64)                8256      \n",
            "                                                                 \n",
            " dropout_3 (Dropout)         (None, 64)                0         \n",
            "                                                                 \n",
            " dense_2 (Dense)             (None, 10)                650       \n",
            "                                                                 \n",
            "=================================================================\n",
            "Total params: 30,218\n",
            "Trainable params: 30,218\n",
            "Non-trainable params: 0\n",
            "_________________________________________________________________\n"
          ]
        }
      ]
    },
    {
      "cell_type": "code",
      "source": [
        "history4=model.fit(X_train,y_train,epochs=50,batch_size=32,validation_split=0.1)"
      ],
      "metadata": {
        "colab": {
          "base_uri": "https://localhost:8080/"
        },
        "id": "fGjsYKVU2aku",
        "outputId": "0b1b3a76-cc94-4a14-bda6-48dc9af932e0"
      },
      "id": "fGjsYKVU2aku",
      "execution_count": 28,
      "outputs": [
        {
          "output_type": "stream",
          "name": "stdout",
          "text": [
            "Epoch 1/50\n",
            "8/8 [==============================] - 6s 168ms/step - loss: 1.3714 - val_loss: 1.0362\n",
            "Epoch 2/50\n",
            "8/8 [==============================] - 1s 114ms/step - loss: 0.8898 - val_loss: 0.7933\n",
            "Epoch 3/50\n",
            "8/8 [==============================] - 1s 104ms/step - loss: 0.7428 - val_loss: 0.6285\n",
            "Epoch 4/50\n",
            "8/8 [==============================] - 1s 106ms/step - loss: 0.6384 - val_loss: 0.5617\n",
            "Epoch 5/50\n",
            "8/8 [==============================] - 1s 98ms/step - loss: 0.5377 - val_loss: 0.4565\n",
            "Epoch 6/50\n",
            "8/8 [==============================] - 1s 102ms/step - loss: 0.4219 - val_loss: 0.3797\n",
            "Epoch 7/50\n",
            "8/8 [==============================] - 1s 99ms/step - loss: 0.3457 - val_loss: 0.3596\n",
            "Epoch 8/50\n",
            "8/8 [==============================] - 1s 102ms/step - loss: 0.3212 - val_loss: 0.3011\n",
            "Epoch 9/50\n",
            "8/8 [==============================] - 1s 98ms/step - loss: 0.2895 - val_loss: 0.3118\n",
            "Epoch 10/50\n",
            "8/8 [==============================] - 1s 195ms/step - loss: 0.3032 - val_loss: 0.3092\n",
            "Epoch 11/50\n",
            "8/8 [==============================] - 1s 172ms/step - loss: 0.2989 - val_loss: 0.2788\n",
            "Epoch 12/50\n",
            "8/8 [==============================] - 1s 103ms/step - loss: 0.2722 - val_loss: 0.3194\n",
            "Epoch 13/50\n",
            "8/8 [==============================] - 1s 111ms/step - loss: 0.2494 - val_loss: 0.2756\n",
            "Epoch 14/50\n",
            "8/8 [==============================] - 1s 112ms/step - loss: 0.2359 - val_loss: 0.2779\n",
            "Epoch 15/50\n",
            "8/8 [==============================] - 1s 104ms/step - loss: 0.2388 - val_loss: 0.2659\n",
            "Epoch 16/50\n",
            "8/8 [==============================] - 1s 104ms/step - loss: 0.2539 - val_loss: 0.2684\n",
            "Epoch 17/50\n",
            "8/8 [==============================] - 1s 107ms/step - loss: 0.2417 - val_loss: 0.2602\n",
            "Epoch 18/50\n",
            "8/8 [==============================] - 1s 111ms/step - loss: 0.2553 - val_loss: 0.2595\n",
            "Epoch 19/50\n",
            "8/8 [==============================] - 1s 97ms/step - loss: 0.2404 - val_loss: 0.2720\n",
            "Epoch 20/50\n",
            "8/8 [==============================] - 1s 105ms/step - loss: 0.2248 - val_loss: 0.2618\n",
            "Epoch 21/50\n",
            "8/8 [==============================] - 1s 116ms/step - loss: 0.2323 - val_loss: 0.3024\n",
            "Epoch 22/50\n",
            "8/8 [==============================] - 1s 100ms/step - loss: 0.2294 - val_loss: 0.2310\n",
            "Epoch 23/50\n",
            "8/8 [==============================] - 1s 163ms/step - loss: 0.2254 - val_loss: 0.2941\n",
            "Epoch 24/50\n",
            "8/8 [==============================] - 2s 196ms/step - loss: 0.2303 - val_loss: 0.2405\n",
            "Epoch 25/50\n",
            "8/8 [==============================] - 1s 105ms/step - loss: 0.2331 - val_loss: 0.2683\n",
            "Epoch 26/50\n",
            "8/8 [==============================] - 1s 103ms/step - loss: 0.2167 - val_loss: 0.2477\n",
            "Epoch 27/50\n",
            "8/8 [==============================] - 1s 127ms/step - loss: 0.2061 - val_loss: 0.2539\n",
            "Epoch 28/50\n",
            "8/8 [==============================] - 1s 108ms/step - loss: 0.2095 - val_loss: 0.2329\n",
            "Epoch 29/50\n",
            "8/8 [==============================] - 1s 109ms/step - loss: 0.1992 - val_loss: 0.2288\n",
            "Epoch 30/50\n",
            "8/8 [==============================] - 1s 113ms/step - loss: 0.2047 - val_loss: 0.2329\n",
            "Epoch 31/50\n",
            "8/8 [==============================] - 1s 109ms/step - loss: 0.1961 - val_loss: 0.2162\n",
            "Epoch 32/50\n",
            "8/8 [==============================] - 1s 109ms/step - loss: 0.2135 - val_loss: 0.2524\n",
            "Epoch 33/50\n",
            "8/8 [==============================] - 1s 101ms/step - loss: 0.2000 - val_loss: 0.2319\n",
            "Epoch 34/50\n",
            "8/8 [==============================] - 1s 114ms/step - loss: 0.1899 - val_loss: 0.2539\n",
            "Epoch 35/50\n",
            "8/8 [==============================] - 1s 112ms/step - loss: 0.2064 - val_loss: 0.2329\n",
            "Epoch 36/50\n",
            "8/8 [==============================] - 1s 156ms/step - loss: 0.1842 - val_loss: 0.2315\n",
            "Epoch 37/50\n",
            "8/8 [==============================] - 2s 203ms/step - loss: 0.1982 - val_loss: 0.2367\n",
            "Epoch 38/50\n",
            "8/8 [==============================] - 1s 104ms/step - loss: 0.2056 - val_loss: 0.2152\n",
            "Epoch 39/50\n",
            "8/8 [==============================] - 1s 103ms/step - loss: 0.1940 - val_loss: 0.2411\n",
            "Epoch 40/50\n",
            "8/8 [==============================] - 1s 108ms/step - loss: 0.1933 - val_loss: 0.2071\n",
            "Epoch 41/50\n",
            "8/8 [==============================] - 1s 99ms/step - loss: 0.2008 - val_loss: 0.2572\n",
            "Epoch 42/50\n",
            "8/8 [==============================] - 1s 101ms/step - loss: 0.1945 - val_loss: 0.2210\n",
            "Epoch 43/50\n",
            "8/8 [==============================] - 1s 100ms/step - loss: 0.1849 - val_loss: 0.2471\n",
            "Epoch 44/50\n",
            "8/8 [==============================] - 1s 115ms/step - loss: 0.2003 - val_loss: 0.2228\n",
            "Epoch 45/50\n",
            "8/8 [==============================] - 1s 104ms/step - loss: 0.1972 - val_loss: 0.2138\n",
            "Epoch 46/50\n",
            "8/8 [==============================] - 1s 107ms/step - loss: 0.1811 - val_loss: 0.2144\n",
            "Epoch 47/50\n",
            "8/8 [==============================] - 1s 102ms/step - loss: 0.1762 - val_loss: 0.2141\n",
            "Epoch 48/50\n",
            "8/8 [==============================] - 1s 106ms/step - loss: 0.1898 - val_loss: 0.2149\n",
            "Epoch 49/50\n",
            "8/8 [==============================] - 1s 150ms/step - loss: 0.1817 - val_loss: 0.2172\n",
            "Epoch 50/50\n",
            "8/8 [==============================] - 2s 224ms/step - loss: 0.1773 - val_loss: 0.2285\n"
          ]
        }
      ]
    },
    {
      "cell_type": "code",
      "source": [
        "#Loss plot\n",
        "import matplotlib.pyplot as plt\n",
        "import seaborn as sns\n",
        "training = history4.history['loss']\n",
        "validation = history4.history['val_loss']\n",
        "plt.plot(training,label='training')\n",
        "plt.plot(validation,label='validation')\n",
        "plt.title('loss plot')\n",
        "plt.legend()\n",
        "plt.show()"
      ],
      "metadata": {
        "colab": {
          "base_uri": "https://localhost:8080/",
          "height": 452
        },
        "id": "UScRp7072kUF",
        "outputId": "23909133-d451-4d42-fec6-f30e0d224ffb"
      },
      "id": "UScRp7072kUF",
      "execution_count": 29,
      "outputs": [
        {
          "output_type": "display_data",
          "data": {
            "text/plain": [
              "<Figure size 640x480 with 1 Axes>"
            ],
            "image/png": "[encoded data removed]"
          },
          "metadata": {}
        }
      ]
    },
    {
      "cell_type": "markdown",
      "source": [
        "## B. Compare the accuracy using MAPE and MSE"
      ],
      "metadata": {
        "id": "L4upl2W37S0H"
      },
      "id": "L4upl2W37S0H"
    },
    {
      "cell_type": "code",
      "source": [
        "# Predict stock prices\n",
        "predicted_prices = model.predict(X_test)\n",
        "# Inverse transform to get the actual prices\n",
        "predicted_prices_actual = scaler.inverse_transform(predicted_prices)\n",
        "from sklearn.metrics import mean_absolute_percentage_error, mean_squared_error\n",
        "# Calculate Mean Absolute Percentage Error (MAPE)\n",
        "mape = mean_absolute_percentage_error(y_test, predicted_prices)\n",
        "print(f\"MAPE: {mape:.2f}%\")\n",
        "# Calculate Mean Squared Error (MSE)\n",
        "mse = mean_squared_error(y_test, predicted_prices)\n",
        "print(f\"MSE: {mse:.2f}\")"
      ],
      "metadata": {
        "colab": {
          "base_uri": "https://localhost:8080/"
        },
        "id": "sKS9-XwC6Zpr",
        "outputId": "64e7a32e-93c5-4fe0-8f9e-77a3a3376f67"
      },
      "id": "sKS9-XwC6Zpr",
      "execution_count": 30,
      "outputs": [
        {
          "output_type": "stream",
          "name": "stdout",
          "text": [
            "3/3 [==============================] - 0s 13ms/step\n",
            "MAPE: 0.50%\n",
            "MSE: 0.16\n"
          ]
        }
      ]
    },
    {
      "cell_type": "markdown",
      "source": [
        "## C. Comment on how many epochs (dropouts) is required for adequate learning.\n",
        "#### To train this model effectively, we needed 50 epochs with learning rate as 0.001 and 4 dropout layers after every SimpleRNN layer."
      ],
      "metadata": {
        "id": "Juri5hUt72Vz"
      },
      "id": "Juri5hUt72Vz"
    },
    {
      "cell_type": "markdown",
      "source": [
        "## D. Plot the actual vs predicted values using the test data for the year 2020 and 2021 ."
      ],
      "metadata": {
        "id": "LBui8OUE7yAe"
      },
      "id": "LBui8OUE7yAe"
    },
    {
      "cell_type": "code",
      "source": [
        "actual_price = scaler.inverse_transform(y_test)\n",
        "#actual vs predicted stock price plot\n",
        "plt.plot(actual_price[:, 0], label='Actual')\n",
        "plt.plot(predicted_prices_actual[:, 0], label='Predicted')\n",
        "plt.xlabel('Date')\n",
        "plt.ylabel('Normalized Close Price')\n",
        "plt.title('Actual vs Predicted Google Stock Price')\n",
        "plt.legend()\n",
        "plt.show()"
      ],
      "metadata": {
        "colab": {
          "base_uri": "https://localhost:8080/",
          "height": 472
        },
        "id": "VxH7eKKc7Wbx",
        "outputId": "c6af5fe2-f469-408e-ba5a-b247e70f2fc2"
      },
      "id": "VxH7eKKc7Wbx",
      "execution_count": 31,
      "outputs": [
        {
          "output_type": "display_data",
          "data": {
            "text/plain": [
              "<Figure size 640x480 with 1 Axes>"
            ],
            "image/png": "[encoded data removed]"
          },
          "metadata": {}
        }
      ]
    }
  ],
  "metadata": {
    "kernelspec": {
      "display_name": "Python 3",
      "name": "python3"
    },
    "language_info": {
      "codemirror_mode": {
        "name": "ipython",
        "version": 3
      },
      "file_extension": ".py",
      "mimetype": "text/x-python",
      "name": "python",
      "nbconvert_exporter": "python",
      "pygments_lexer": "ipython3",
      "version": "3.11.4"
    },
    "colab": {
      "provenance": [],
      "gpuType": "T4"
    },
    "accelerator": "GPU"
  },
  "nbformat": 4,
  "nbformat_minor": 5
}
